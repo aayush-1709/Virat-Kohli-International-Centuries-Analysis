{
 "cells": [
  {
   "cell_type": "code",
   "execution_count": 1,
   "metadata": {},
   "outputs": [],
   "source": [
    "import pandas as pd\n",
    "import numpy as np\n",
    "from tabulate import tabulate"
   ]
  },
  {
   "cell_type": "code",
   "execution_count": 2,
   "metadata": {},
   "outputs": [],
   "source": [
    "df = pd.read_csv(\"Virat-Kohli-International-Cricket-Centuries.csv\")"
   ]
  },
  {
   "cell_type": "code",
   "execution_count": null,
   "metadata": {},
   "outputs": [],
   "source": []
  },
  {
   "cell_type": "code",
   "execution_count": 3,
   "metadata": {},
   "outputs": [],
   "source": [
    "# Display the DataFrame without the index with (.to_string(index = False))\n",
    "\n",
    "# print(df.to_string(index=False))                          # full data without automated serial number\n",
    "# print(df.drop(columns=['Against']))                       # Full data without the selected column\n",
    "# print(df.iloc[70:80].to_string(index=False))              # data required from a specific range\n",
    "# print(tabulate(df, headers='keys', tablefmt='grid'))      # to print data in table format"
   ]
  },
  {
   "cell_type": "markdown",
   "metadata": {},
   "source": [
    "Classification"
   ]
  },
  {
   "cell_type": "code",
   "execution_count": 4,
   "metadata": {},
   "outputs": [],
   "source": [
    "from sklearn.preprocessing import StandardScaler\n",
    "from imblearn.over_sampling import RandomOverSampler"
   ]
  },
  {
   "cell_type": "code",
   "execution_count": 5,
   "metadata": {},
   "outputs": [
    {
     "name": "stdout",
     "output_type": "stream",
     "text": [
      "<class 'pandas.core.frame.DataFrame'>\n",
      "RangeIndex: 80 entries, 0 to 79\n",
      "Data columns (total 9 columns):\n",
      " #   Column    Non-Null Count  Dtype \n",
      "---  ------    --------------  ----- \n",
      " 0   No.       80 non-null     int64 \n",
      " 1   Runs      80 non-null     int64 \n",
      " 2   Against   80 non-null     object\n",
      " 3   Position  80 non-null     int64 \n",
      " 4   Innings   80 non-null     int64 \n",
      " 5   Venue     80 non-null     object\n",
      " 6   Ground    80 non-null     object\n",
      " 7   Date      80 non-null     object\n",
      " 8   Result    80 non-null     object\n",
      "dtypes: int64(4), object(5)\n",
      "memory usage: 5.8+ KB\n",
      "--------------\n"
     ]
    },
    {
     "data": {
      "text/html": [
       "<div>\n",
       "<style scoped>\n",
       "    .dataframe tbody tr th:only-of-type {\n",
       "        vertical-align: middle;\n",
       "    }\n",
       "\n",
       "    .dataframe tbody tr th {\n",
       "        vertical-align: top;\n",
       "    }\n",
       "\n",
       "    .dataframe thead th {\n",
       "        text-align: right;\n",
       "    }\n",
       "</style>\n",
       "<table border=\"1\" class=\"dataframe\">\n",
       "  <thead>\n",
       "    <tr style=\"text-align: right;\">\n",
       "      <th></th>\n",
       "      <th>No.</th>\n",
       "      <th>Runs</th>\n",
       "      <th>Position</th>\n",
       "      <th>Innings</th>\n",
       "    </tr>\n",
       "  </thead>\n",
       "  <tbody>\n",
       "    <tr>\n",
       "      <th>count</th>\n",
       "      <td>80.0000</td>\n",
       "      <td>80.000000</td>\n",
       "      <td>80.000000</td>\n",
       "      <td>80.00000</td>\n",
       "    </tr>\n",
       "    <tr>\n",
       "      <th>mean</th>\n",
       "      <td>40.5000</td>\n",
       "      <td>131.550000</td>\n",
       "      <td>3.500000</td>\n",
       "      <td>1.67500</td>\n",
       "    </tr>\n",
       "    <tr>\n",
       "      <th>std</th>\n",
       "      <td>23.2379</td>\n",
       "      <td>35.094772</td>\n",
       "      <td>0.656033</td>\n",
       "      <td>0.67082</td>\n",
       "    </tr>\n",
       "    <tr>\n",
       "      <th>min</th>\n",
       "      <td>1.0000</td>\n",
       "      <td>100.000000</td>\n",
       "      <td>2.000000</td>\n",
       "      <td>1.00000</td>\n",
       "    </tr>\n",
       "    <tr>\n",
       "      <th>25%</th>\n",
       "      <td>20.7500</td>\n",
       "      <td>107.000000</td>\n",
       "      <td>3.000000</td>\n",
       "      <td>1.00000</td>\n",
       "    </tr>\n",
       "    <tr>\n",
       "      <th>50%</th>\n",
       "      <td>40.5000</td>\n",
       "      <td>118.500000</td>\n",
       "      <td>3.000000</td>\n",
       "      <td>2.00000</td>\n",
       "    </tr>\n",
       "    <tr>\n",
       "      <th>75%</th>\n",
       "      <td>60.2500</td>\n",
       "      <td>139.250000</td>\n",
       "      <td>4.000000</td>\n",
       "      <td>2.00000</td>\n",
       "    </tr>\n",
       "    <tr>\n",
       "      <th>max</th>\n",
       "      <td>80.0000</td>\n",
       "      <td>254.000000</td>\n",
       "      <td>6.000000</td>\n",
       "      <td>4.00000</td>\n",
       "    </tr>\n",
       "  </tbody>\n",
       "</table>\n",
       "</div>"
      ],
      "text/plain": [
       "           No.        Runs   Position   Innings\n",
       "count  80.0000   80.000000  80.000000  80.00000\n",
       "mean   40.5000  131.550000   3.500000   1.67500\n",
       "std    23.2379   35.094772   0.656033   0.67082\n",
       "min     1.0000  100.000000   2.000000   1.00000\n",
       "25%    20.7500  107.000000   3.000000   1.00000\n",
       "50%    40.5000  118.500000   3.000000   2.00000\n",
       "75%    60.2500  139.250000   4.000000   2.00000\n",
       "max    80.0000  254.000000   6.000000   4.00000"
      ]
     },
     "execution_count": 5,
     "metadata": {},
     "output_type": "execute_result"
    }
   ],
   "source": [
    "df.info()\n",
    "print(\"--------------\")\n",
    "df.describe()\n",
    "\n",
    "# df_class.info()"
   ]
  },
  {
   "cell_type": "code",
   "execution_count": 6,
   "metadata": {},
   "outputs": [
    {
     "name": "stderr",
     "output_type": "stream",
     "text": [
      "C:\\Users\\1\\AppData\\Roaming\\Python\\Python312\\site-packages\\numpy\\core\\fromnumeric.py:59: FutureWarning: 'DataFrame.swapaxes' is deprecated and will be removed in a future version. Please use 'DataFrame.transpose' instead.\n",
      "  return bound(*args, **kwds)\n"
     ]
    }
   ],
   "source": [
    "df_class = pd.get_dummies(df, drop_first=False)\n",
    "train, valid ,test = np.split(df_class.sample(frac=1), [int(0.6*len(df)), int(0.8*len(df))])            #after np.split if df.sample(frac=1)  then it will shuffle data and only df will choose data linewise for division in train, test and valid.\n"
   ]
  },
  {
   "cell_type": "code",
   "execution_count": 7,
   "metadata": {},
   "outputs": [
    {
     "name": "stdout",
     "output_type": "stream",
     "text": [
      "<class 'pandas.core.frame.DataFrame'>\n",
      "RangeIndex: 80 entries, 0 to 79\n",
      "Columns: 150 entries, No. to Result_Won\n",
      "dtypes: bool(146), int64(4)\n",
      "memory usage: 14.0 KB\n",
      "--------------\n",
      "--------------\n",
      "<class 'pandas.core.frame.DataFrame'>\n",
      "RangeIndex: 80 entries, 0 to 79\n",
      "Columns: 150 entries, No. to Result_Won\n",
      "dtypes: bool(146), int64(4)\n",
      "memory usage: 14.0 KB\n"
     ]
    }
   ],
   "source": [
    "df_class.info()\n",
    "print(\"--------------\")\n",
    "\n",
    "df.describe()\n",
    "print(\"--------------\")\n",
    "\n",
    "\n",
    "df_class.info()"
   ]
  },
  {
   "cell_type": "code",
   "execution_count": 8,
   "metadata": {},
   "outputs": [
    {
     "name": "stdout",
     "output_type": "stream",
     "text": [
      "No.                     int64\n",
      "Runs                    int64\n",
      "Position                int64\n",
      "Innings                 int64\n",
      "Against_ Afghanistan     bool\n",
      "                        ...  \n",
      "Date_31-Jul-12           bool\n",
      "Result_Drawn             bool\n",
      "Result_Lost              bool\n",
      "Result_Tied              bool\n",
      "Result_Won               bool\n",
      "Length: 150, dtype: object\n"
     ]
    }
   ],
   "source": [
    "print(train.dtypes)"
   ]
  },
  {
   "cell_type": "code",
   "execution_count": 9,
   "metadata": {},
   "outputs": [],
   "source": [
    "def scale_dataset(dataframe, oversample=True) :\n",
    "\n",
    "  x = dataframe.iloc[:, :-1].values  \n",
    "  y = dataframe.iloc[:, -1].values\n",
    "\n",
    "  scaler = StandardScaler()\n",
    "  x = scaler.fit_transform(x)\n",
    "\n",
    "  if oversample:\n",
    "        ros = RandomOverSampler(random_state=42)\n",
    "        x, y = ros.fit_resample(x, y)\n",
    "\n",
    "  return np.hstack((x, np.reshape(y, (-1, 1)))), x, y"
   ]
  },
  {
   "cell_type": "code",
   "execution_count": 10,
   "metadata": {},
   "outputs": [
    {
     "name": "stdout",
     "output_type": "stream",
     "text": [
      "    No.  Runs  Position  Innings  Against_ Afghanistan  Against_ Australia  \\\n",
      "67   68   114         3        2                 False               False   \n",
      "61   62   107         3        2                 False               False   \n",
      "48   49   113         3        1                 False               False   \n",
      "34   35   117         3        1                 False                True   \n",
      "4     5   100         4        1                 False               False   \n",
      "62   63   123         4        2                 False                True   \n",
      "2     3   118         3        2                 False                True   \n",
      "58   59   139         4        1                 False               False   \n",
      "69   70   136         4        2                 False               False   \n",
      "12   13   106         3        1                 False               False   \n",
      "79   80   117         3        1                 False               False   \n",
      "76   77   122         3        1                 False               False   \n",
      "43   44   111         3        2                 False               False   \n",
      "18   19   115         3        2                 False               False   \n",
      "73   74   166         3        1                 False               False   \n",
      "15   16   103         5        2                 False               False   \n",
      "55   56   129         3        2                 False               False   \n",
      "29   30   169         4        2                 False                True   \n",
      "53   54   112         3        2                 False               False   \n",
      "9    10   133         4        2                 False               False   \n",
      "6     7   112         4        2                 False               False   \n",
      "74   75   186         4        2                 False                True   \n",
      "7     8   117         4        2                 False               False   \n",
      "35   36   106         3        2                 False                True   \n",
      "30   31   147         4        2                 False                True   \n",
      "20   21   115         3        2                 False                True   \n",
      "65   66   123         3        2                 False                True   \n",
      "32   33   103         4        2                 False               False   \n",
      "50   51   213         4        2                 False               False   \n",
      "51   52   243         4        1                 False               False   \n",
      "63   64   104         3        2                 False                True   \n",
      "47   48   121         3        1                 False               False   \n",
      "11   12   183         3        2                 False               False   \n",
      "71   72   113         3        1                 False               False   \n",
      "77   78   103         3        2                 False               False   \n",
      "39   40   167         4        1                 False               False   \n",
      "78   79   101         3        1                 False               False   \n",
      "38   39   154         3        2                 False               False   \n",
      "24   25   136         3        2                 False               False   \n",
      "64   65   116         3        1                 False                True   \n",
      "10   11   108         3        1                 False               False   \n",
      "66   67   120         3        1                 False               False   \n",
      "72   73   113         3        1                 False               False   \n",
      "60   61   157         3        1                 False               False   \n",
      "59   60   140         3        2                 False               False   \n",
      "28   29   141         4        4                 False                True   \n",
      "45   46   131         3        1                 False               False   \n",
      "42   43   204         4        1                 False               False   \n",
      "\n",
      "    Against_ Bangladesh  Against_ England  Against_ New Zealand  \\\n",
      "67                False             False                 False   \n",
      "61                False             False                 False   \n",
      "48                False             False                  True   \n",
      "34                False             False                 False   \n",
      "4                  True             False                 False   \n",
      "62                False             False                 False   \n",
      "2                 False             False                 False   \n",
      "58                False             False                 False   \n",
      "69                 True             False                 False   \n",
      "12                False             False                 False   \n",
      "79                False             False                  True   \n",
      "76                False             False                 False   \n",
      "43                False             False                 False   \n",
      "18                False             False                 False   \n",
      "73                False             False                 False   \n",
      "15                False              True                 False   \n",
      "55                False             False                 False   \n",
      "29                False             False                 False   \n",
      "53                False             False                 False   \n",
      "9                 False             False                 False   \n",
      "6                 False              True                 False   \n",
      "74                False             False                 False   \n",
      "7                 False             False                 False   \n",
      "35                False             False                 False   \n",
      "30                False             False                 False   \n",
      "20                False             False                 False   \n",
      "65                False             False                 False   \n",
      "32                False             False                 False   \n",
      "50                False             False                 False   \n",
      "51                False             False                 False   \n",
      "63                False             False                 False   \n",
      "47                False             False                  True   \n",
      "11                False             False                 False   \n",
      "71                 True             False                 False   \n",
      "77                 True             False                 False   \n",
      "39                False              True                 False   \n",
      "78                False             False                 False   \n",
      "38                False             False                  True   \n",
      "24                 True             False                 False   \n",
      "64                False             False                 False   \n",
      "10                False             False                 False   \n",
      "66                False             False                 False   \n",
      "72                False             False                 False   \n",
      "60                False             False                 False   \n",
      "59                False             False                 False   \n",
      "28                False             False                 False   \n",
      "45                False             False                 False   \n",
      "42                 True             False                 False   \n",
      "\n",
      "    Against_ Pakistan  ...  Date_28-Nov-10  Date_29-Oct-17  Date_30-Oct-13  \\\n",
      "67              False  ...           False           False           False   \n",
      "61              False  ...           False           False           False   \n",
      "48              False  ...           False            True           False   \n",
      "34              False  ...           False           False           False   \n",
      "4               False  ...           False           False           False   \n",
      "62              False  ...           False           False           False   \n",
      "2               False  ...           False           False           False   \n",
      "58              False  ...           False           False           False   \n",
      "69              False  ...           False           False           False   \n",
      "12              False  ...           False           False           False   \n",
      "79              False  ...           False           False           False   \n",
      "76               True  ...           False           False           False   \n",
      "43              False  ...           False           False           False   \n",
      "18              False  ...           False           False           False   \n",
      "73              False  ...           False           False           False   \n",
      "15              False  ...           False           False           False   \n",
      "55              False  ...           False           False           False   \n",
      "29              False  ...           False           False           False   \n",
      "53              False  ...           False           False           False   \n",
      "9               False  ...           False           False           False   \n",
      "6               False  ...           False           False           False   \n",
      "74              False  ...           False           False           False   \n",
      "7               False  ...           False           False           False   \n",
      "35              False  ...           False           False           False   \n",
      "30              False  ...           False           False           False   \n",
      "20              False  ...           False           False            True   \n",
      "65              False  ...           False           False           False   \n",
      "32              False  ...           False           False           False   \n",
      "50              False  ...           False           False           False   \n",
      "51              False  ...           False           False           False   \n",
      "63              False  ...           False           False           False   \n",
      "47              False  ...           False           False           False   \n",
      "11               True  ...           False           False           False   \n",
      "71              False  ...           False           False           False   \n",
      "77              False  ...           False           False           False   \n",
      "39              False  ...           False           False           False   \n",
      "78              False  ...           False           False           False   \n",
      "38              False  ...           False           False           False   \n",
      "24              False  ...           False           False           False   \n",
      "64              False  ...           False           False           False   \n",
      "10              False  ...           False           False           False   \n",
      "66              False  ...           False           False           False   \n",
      "72              False  ...           False           False           False   \n",
      "60              False  ...           False           False           False   \n",
      "59              False  ...           False           False           False   \n",
      "28              False  ...           False           False           False   \n",
      "45              False  ...           False           False           False   \n",
      "42              False  ...           False           False           False   \n",
      "\n",
      "    Date_31-Aug-12  Date_31-Aug-17  Date_31-Jul-12  Result_Drawn  Result_Lost  \\\n",
      "67           False           False           False         False        False   \n",
      "61           False           False           False         False         True   \n",
      "48           False           False           False         False        False   \n",
      "34           False           False           False         False         True   \n",
      "4            False           False           False         False        False   \n",
      "62           False           False           False         False         True   \n",
      "2            False           False           False         False        False   \n",
      "58           False           False           False         False        False   \n",
      "69           False           False           False         False        False   \n",
      "12           False           False           False         False        False   \n",
      "79           False           False           False         False        False   \n",
      "76           False           False           False         False        False   \n",
      "43           False           False           False         False        False   \n",
      "18           False           False           False         False        False   \n",
      "73           False           False           False         False        False   \n",
      "15           False           False           False          True        False   \n",
      "55           False           False           False         False        False   \n",
      "29           False           False           False          True        False   \n",
      "53           False           False           False         False        False   \n",
      "9            False           False           False         False        False   \n",
      "6            False           False           False         False        False   \n",
      "74           False           False           False          True        False   \n",
      "7            False           False           False         False        False   \n",
      "35           False           False           False         False         True   \n",
      "30           False           False           False          True        False   \n",
      "20           False           False           False         False        False   \n",
      "65           False           False           False         False         True   \n",
      "32           False           False           False         False         True   \n",
      "50           False           False           False         False        False   \n",
      "51           False           False           False          True        False   \n",
      "63           False           False           False         False        False   \n",
      "47           False           False           False         False         True   \n",
      "11           False           False           False         False        False   \n",
      "71           False           False           False         False        False   \n",
      "77           False           False           False         False        False   \n",
      "39           False           False           False         False        False   \n",
      "78           False           False           False         False        False   \n",
      "38           False           False           False         False        False   \n",
      "24           False           False           False         False        False   \n",
      "64           False           False           False         False        False   \n",
      "10           False           False           False         False        False   \n",
      "66           False           False           False         False        False   \n",
      "72           False           False           False         False        False   \n",
      "60           False           False           False          True        False   \n",
      "59           False           False           False         False        False   \n",
      "28           False           False           False         False         True   \n",
      "45           False            True           False         False        False   \n",
      "42           False           False           False         False        False   \n",
      "\n",
      "    Result_Tied  Result_Won  \n",
      "67        False        True  \n",
      "61        False       False  \n",
      "48        False        True  \n",
      "34        False       False  \n",
      "4         False        True  \n",
      "62        False       False  \n",
      "2         False        True  \n",
      "58        False        True  \n",
      "69        False        True  \n",
      "12        False        True  \n",
      "79        False        True  \n",
      "76        False        True  \n",
      "43        False        True  \n",
      "18        False        True  \n",
      "73        False        True  \n",
      "15        False       False  \n",
      "55        False        True  \n",
      "29        False       False  \n",
      "53        False        True  \n",
      "9         False        True  \n",
      "6         False        True  \n",
      "74        False       False  \n",
      "7         False        True  \n",
      "35        False       False  \n",
      "30        False       False  \n",
      "20        False        True  \n",
      "65        False       False  \n",
      "32        False       False  \n",
      "50        False        True  \n",
      "51        False       False  \n",
      "63        False        True  \n",
      "47        False       False  \n",
      "11        False        True  \n",
      "71        False        True  \n",
      "77        False        True  \n",
      "39        False        True  \n",
      "78        False        True  \n",
      "38        False        True  \n",
      "24        False        True  \n",
      "64        False        True  \n",
      "10        False        True  \n",
      "66        False        True  \n",
      "72        False        True  \n",
      "60        False       False  \n",
      "59        False        True  \n",
      "28        False       False  \n",
      "45        False        True  \n",
      "42        False        True  \n",
      "\n",
      "[48 rows x 150 columns]\n"
     ]
    }
   ],
   "source": [
    "print(train)\n"
   ]
  },
  {
   "cell_type": "code",
   "execution_count": 11,
   "metadata": {},
   "outputs": [],
   "source": [
    "train, x_train, y_train = scale_dataset(train, oversample=True)\n",
    "valid, x_valid, y_valid = scale_dataset(valid, oversample=False)\n",
    "test, x_test, y_test = scale_dataset(test, oversample=False)"
   ]
  },
  {
   "cell_type": "code",
   "execution_count": 12,
   "metadata": {},
   "outputs": [
    {
     "name": "stdout",
     "output_type": "stream",
     "text": [
      "Unique classes in y_train: [False  True]\n"
     ]
    }
   ],
   "source": [
    "print(\"Unique classes in y_train:\", np.unique(y_train))\n",
    "if len(np.unique(y_train)) <= 1:\n",
    "    print(\"Warning: y_train contains less than 2 classes.\")\n",
    "    # Handle this case (e.g., skip this iteration or apply balancing techniques)\n"
   ]
  },
  {
   "cell_type": "code",
   "execution_count": 13,
   "metadata": {},
   "outputs": [
    {
     "name": "stdout",
     "output_type": "stream",
     "text": [
      "KNN :\n",
      "              precision    recall  f1-score   support\n",
      "\n",
      "       False       1.00      0.33      0.50         6\n",
      "        True       0.71      1.00      0.83        10\n",
      "\n",
      "    accuracy                           0.75        16\n",
      "   macro avg       0.86      0.67      0.67        16\n",
      "weighted avg       0.82      0.75      0.71        16\n",
      "\n"
     ]
    }
   ],
   "source": [
    "#kNN\n",
    "from sklearn.neighbors import KNeighborsClassifier\n",
    "from sklearn.metrics import classification_report\n",
    "\n",
    "knn_model = KNeighborsClassifier(n_neighbors=10)\n",
    "knn_model.fit(x_train, y_train)\n",
    "y_pred = knn_model.predict(x_test)\n",
    "\n",
    "print(\"KNN :\")\n",
    "print(classification_report(y_test, y_pred))\n"
   ]
  },
  {
   "cell_type": "code",
   "execution_count": 14,
   "metadata": {},
   "outputs": [
    {
     "name": "stdout",
     "output_type": "stream",
     "text": [
      "Naive Bayes :\n",
      "              precision    recall  f1-score   support\n",
      "\n",
      "       False       0.80      0.67      0.73         6\n",
      "        True       0.82      0.90      0.86        10\n",
      "\n",
      "    accuracy                           0.81        16\n",
      "   macro avg       0.81      0.78      0.79        16\n",
      "weighted avg       0.81      0.81      0.81        16\n",
      "\n"
     ]
    }
   ],
   "source": [
    "#Naive Bayes\n",
    "from sklearn.naive_bayes import GaussianNB\n",
    "nb_model = GaussianNB()\n",
    "nb_model = nb_model.fit(x_train, y_train)\n",
    "y_pred = nb_model.predict(x_test)\n",
    "print(\"Naive Bayes :\")\n",
    "print(classification_report(y_test, y_pred))"
   ]
  },
  {
   "cell_type": "code",
   "execution_count": 15,
   "metadata": {},
   "outputs": [
    {
     "name": "stdout",
     "output_type": "stream",
     "text": [
      "Unique classes in y_train: [False  True]\n",
      "Class counts in y_train: [34 34]\n"
     ]
    }
   ],
   "source": [
    "print(\"Unique classes in y_train:\", np.unique(y_train))\n",
    "print(\"Class counts in y_train:\", np.bincount(y_train))"
   ]
  },
  {
   "cell_type": "code",
   "execution_count": 16,
   "metadata": {},
   "outputs": [
    {
     "name": "stdout",
     "output_type": "stream",
     "text": [
      "Logistic Regression:\n",
      "              precision    recall  f1-score   support\n",
      "\n",
      "       False       1.00      0.33      0.50         6\n",
      "        True       0.71      1.00      0.83        10\n",
      "\n",
      "    accuracy                           0.75        16\n",
      "   macro avg       0.86      0.67      0.67        16\n",
      "weighted avg       0.82      0.75      0.71        16\n",
      "\n"
     ]
    }
   ],
   "source": [
    "# Logistic Regression\n",
    "from sklearn.linear_model import LogisticRegression\n",
    "from sklearn.metrics import classification_report\n",
    "\n",
    "lg_model = LogisticRegression(max_iter=80)  # Increase max iterations if needed\n",
    "lg_model.fit(x_train, y_train)\n",
    "y_pred = lg_model.predict(x_test)\n",
    "\n",
    "print(\"Logistic Regression:\")\n",
    "print(classification_report(y_test, y_pred))\n"
   ]
  },
  {
   "cell_type": "code",
   "execution_count": 17,
   "metadata": {},
   "outputs": [
    {
     "name": "stdout",
     "output_type": "stream",
     "text": [
      "SVM :\n",
      "              precision    recall  f1-score   support\n",
      "\n",
      "       False       1.00      0.17      0.29         6\n",
      "        True       0.67      1.00      0.80        10\n",
      "\n",
      "    accuracy                           0.69        16\n",
      "   macro avg       0.83      0.58      0.54        16\n",
      "weighted avg       0.79      0.69      0.61        16\n",
      "\n"
     ]
    }
   ],
   "source": [
    "#SVM\n",
    "from sklearn.svm import SVC\n",
    "\n",
    "svm_model = SVC()\n",
    "svm_model = svm_model.fit(x_train, y_train)\n",
    "y_pred = svm_model.predict(x_test)\n",
    "\n",
    "print(\"SVM :\")\n",
    "print(classification_report(y_test, y_pred))\n",
    "\n"
   ]
  }
 ],
 "metadata": {
  "kernelspec": {
   "display_name": "Python 3",
   "language": "python",
   "name": "python3"
  },
  "language_info": {
   "codemirror_mode": {
    "name": "ipython",
    "version": 3
   },
   "file_extension": ".py",
   "mimetype": "text/x-python",
   "name": "python",
   "nbconvert_exporter": "python",
   "pygments_lexer": "ipython3",
   "version": "3.12.4"
  }
 },
 "nbformat": 4,
 "nbformat_minor": 2
}
