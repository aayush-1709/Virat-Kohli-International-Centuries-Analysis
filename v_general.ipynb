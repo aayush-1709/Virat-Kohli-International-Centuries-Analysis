{
 "cells": [
  {
   "cell_type": "code",
   "execution_count": 1,
   "metadata": {},
   "outputs": [],
   "source": [
    "import pandas as pd\n",
    "import numpy as np\n",
    "from tabulate import tabulate"
   ]
  },
  {
   "cell_type": "code",
   "execution_count": 2,
   "metadata": {},
   "outputs": [],
   "source": [
    "df = pd.read_csv(\"Virat-Kohli-International-Cricket-Centuries.csv\")"
   ]
  },
  {
   "cell_type": "code",
   "execution_count": 3,
   "metadata": {},
   "outputs": [],
   "source": [
    "# Display the DataFrame without the index with (.to_string(index = False))\n",
    "\n",
    "# Here's the different types of df you can print\n",
    "# print(df.to_string(index=False))                          # full data without automated serial number\n",
    "# print(df.drop(columns=['Against']))                       # Full data without the selected column\n",
    "# print(df.iloc[70:80].to_string(index=False))              # data required from a specific range\n",
    "# print(tabulate(df, headers='keys', tablefmt='grid'))      # to print data in table format"
   ]
  },
  {
   "cell_type": "code",
   "execution_count": 4,
   "metadata": {},
   "outputs": [
    {
     "name": "stdout",
     "output_type": "stream",
     "text": [
      "<class 'pandas.core.frame.DataFrame'>\n",
      "RangeIndex: 80 entries, 0 to 79\n",
      "Data columns (total 9 columns):\n",
      " #   Column    Non-Null Count  Dtype \n",
      "---  ------    --------------  ----- \n",
      " 0   No.       80 non-null     int64 \n",
      " 1   Runs      80 non-null     int64 \n",
      " 2   Against   80 non-null     object\n",
      " 3   Position  80 non-null     int64 \n",
      " 4   Innings   80 non-null     int64 \n",
      " 5   Venue     80 non-null     object\n",
      " 6   Ground    80 non-null     object\n",
      " 7   Date      80 non-null     object\n",
      " 8   Result    80 non-null     object\n",
      "dtypes: int64(4), object(5)\n",
      "memory usage: 5.8+ KB\n",
      "           No.        Runs   Position   Innings\n",
      "count  80.0000   80.000000  80.000000  80.00000\n",
      "mean   40.5000  131.550000   3.500000   1.67500\n",
      "std    23.2379   35.094772   0.656033   0.67082\n",
      "min     1.0000  100.000000   2.000000   1.00000\n",
      "25%    20.7500  107.000000   3.000000   1.00000\n",
      "50%    40.5000  118.500000   3.000000   2.00000\n",
      "75%    60.2500  139.250000   4.000000   2.00000\n",
      "max    80.0000  254.000000   6.000000   4.00000\n"
     ]
    }
   ],
   "source": [
    "df.head()\n",
    "df.info()\n",
    "print(df.describe())"
   ]
  },
  {
   "cell_type": "code",
   "execution_count": 5,
   "metadata": {},
   "outputs": [
    {
     "name": "stdout",
     "output_type": "stream",
     "text": [
      "Empty DataFrame\n",
      "Columns: [No., Runs, Against, Position, Innings, Venue, Ground, Date, Result]\n",
      "Index: []\n"
     ]
    }
   ],
   "source": [
    "null_ground_rows = df[df['Ground'].isnull()]\n",
    "print(null_ground_rows)"
   ]
  },
  {
   "cell_type": "code",
   "execution_count": 6,
   "metadata": {},
   "outputs": [
    {
     "name": "stdout",
     "output_type": "stream",
     "text": [
      "Unique Results: ['Tied' 'Won' 'Lost' 'Drawn']\n"
     ]
    }
   ],
   "source": [
    "unique_results = df['Result'].unique()\n",
    "print(\"Unique Results:\", unique_results)"
   ]
  },
  {
   "cell_type": "code",
   "execution_count": 7,
   "metadata": {},
   "outputs": [
    {
     "name": "stdout",
     "output_type": "stream",
     "text": [
      "Count of each result:\n",
      "Result\n",
      "Won      55\n",
      "Lost     14\n",
      "Drawn    10\n",
      "Tied      1\n",
      "Name: count, dtype: int64\n"
     ]
    }
   ],
   "source": [
    "result_counts = df['Result'].value_counts()\n",
    "print(\"Count of each result:\")\n",
    "print(result_counts)"
   ]
  },
  {
   "cell_type": "code",
   "execution_count": 8,
   "metadata": {},
   "outputs": [
    {
     "name": "stdout",
     "output_type": "stream",
     "text": [
      " No.  Runs       Against  Position  Innings                                         Venue Ground      Date Result\n",
      "   6   107       England         4        1                       Sophia Gardens, Cardiff   Away 16-Sep-11   Lost\n",
      "   9   116     Australia         6        2                        Adeaide Oval, Adelaide   Away 24-Jan-12   Lost\n",
      "  23   123   New Zealand         3        2                           McLean Park, Napier   Away 19-Jan-14   Lost\n",
      "  28   115     Australia         4        2                       Adelaide Oval, Adelaide   Away 09-Dec-14   Lost\n",
      "  29   141     Australia         4        4                       Adelaide Oval, Adelaide   Away 09-Dec-14   Lost\n",
      "  33   103     Sri Lanka         4        2            Galle International Stadium, Galle   Away 12-Aug-15   Lost\n",
      "  35   117     Australia         3        1           Melbourne Cricket Ground, Melbourne   Away 17-Jan-16   Lost\n",
      "  36   106     Australia         3        2                         Manuka Oval, Canberra   Away 20-Jan-16   Lost\n",
      "  48   121   New Zealand         3        1                      Wankhede Stadium, Mumbai   Home 22-Oct-17   Lost\n",
      "  53   153  South Africa         4        2                    SuperSport Park, Centurion   Away 13-Jan-18   Lost\n",
      "  57   149       England         4        2          Edgbaston Cricket Ground, Birmingham   Away 01-Aug-18   Lost\n",
      "  62   107   West Indies         3        2 Maharashtra Cricket Association Stadium, Pune   Home 27-Oct-18   Lost\n",
      "  63   123     Australia         4        2                          Perth Stadium, Perth   Away 14-Dec-18   Lost\n",
      "  66   123     Australia         3        2            JSCA International Stadium, Ranchi   Home 08-Mar-19   Lost\n"
     ]
    }
   ],
   "source": [
    "lost_match = df[df['Result'] == 'Lost'].to_string(index=False)\n",
    "print(lost_match)"
   ]
  },
  {
   "cell_type": "code",
   "execution_count": 9,
   "metadata": {},
   "outputs": [
    {
     "name": "stdout",
     "output_type": "stream",
     "text": [
      " No.  Runs       Against  Position  Innings                                Venue  Ground      Date Result\n",
      "  11   108     Sri Lanka         3        1 Sher-e-Bangla Cricket Stadium, Dhaka Neutral 13-Mar-12    Won\n",
      "  22   119  South Africa         4        1      Wanderers Stadium, Johannesburg    Away 18-Dec-13  Drawn\n"
     ]
    }
   ],
   "source": [
    "num = df[df['No.'].isin([11, 22])].to_string(index=False)\n",
    "print(num)"
   ]
  },
  {
   "cell_type": "code",
   "execution_count": 10,
   "metadata": {},
   "outputs": [
    {
     "name": "stdout",
     "output_type": "stream",
     "text": [
      " No.  Runs       Against  Position  Innings                                        Venue Ground      Date Result\n",
      "  16   103       England         5        2 Vidarbha Cricket Association Stadium, Nagpur   Home 13-Dec-12  Drawn\n",
      "  22   119  South Africa         4        1              Wanderers Stadium, Johannesburg   Away 18-Dec-13  Drawn\n",
      "  24   105   New Zealand         4        4                    Basin Reserve, Wellington   Away 14-Feb-14  Drawn\n",
      "  30   169     Australia         4        2          Melbourne Cricket Ground, Melbourne   Away 26-Dec-14  Drawn\n",
      "  31   147     Australia         4        2                Sydney Cricket Ground, Sydney   Away 06-Jan-15  Drawn\n",
      "  50   104     Sri Lanka         4        3                        Eden Gardens, Kolkata   Home 16-Nov-17  Drawn\n",
      "  52   243     Sri Lanka         4        1               Feroz Shah Kotla Ground, Delhi   Home 02-Dec-17  Drawn\n",
      "  61   157   West Indies         3        1      ACA-VDCA Cricket Stadium, Visakhapatnam   Home 24-Oct-18  Drawn\n",
      "  75   186     Australia         4        2             Narendra Modi Stadium, Ahmedabad   Home 09-Mar-23  Drawn\n",
      "  76   121   West Indies         4        1             Queen's Park Oval, Port of Spain   Away 20-Jul-23  Drawn\n"
     ]
    }
   ],
   "source": [
    "\n",
    "drawn_match = df[df['Result'] == 'Drawn'].to_string(index=False)\n",
    "print(drawn_match)"
   ]
  },
  {
   "cell_type": "code",
   "execution_count": 11,
   "metadata": {},
   "outputs": [
    {
     "name": "stdout",
     "output_type": "stream",
     "text": [
      " No.  Runs      Against  Position  Innings                     Venue Ground      Date Result\n",
      "  24   105  New Zealand         4        4 Basin Reserve, Wellington   Away 14-Feb-14  Drawn\n",
      "  29   141    Australia         4        4   Adelaide Oval, Adelaide   Away 09-Dec-14   Lost\n"
     ]
    }
   ],
   "source": [
    "innings = df[df['Innings'] > 3 ].to_string(index=False)\n",
    "print(innings)"
   ]
  },
  {
   "cell_type": "code",
   "execution_count": 12,
   "metadata": {},
   "outputs": [
    {
     "name": "stdout",
     "output_type": "stream",
     "text": [
      "0    24\n",
      "1    11\n",
      "2    20\n",
      "3    28\n",
      "4    19\n",
      "Name: Day, dtype: int32\n",
      "0    12\n",
      "1     1\n",
      "2    10\n",
      "3    11\n",
      "4     2\n",
      "Name: Month, dtype: int32\n",
      "0    2009\n",
      "1    2010\n",
      "2    2010\n",
      "3    2010\n",
      "4    2011\n",
      "Name: Year, dtype: int32\n"
     ]
    }
   ],
   "source": [
    "# Extracting Month of the Match\n",
    "df['Date'] = pd.to_datetime(df['Date'], format='%d-%b-%y')  # Specify the format\n",
    "df['Day'] = df['Date'].dt.day\n",
    "df['Month'] = df['Date'].dt.month\n",
    "df['Year'] = df['Date'].dt.year\n",
    "print(df['Day'].head())\n",
    "print(df['Month'].head())\n",
    "print(df['Year'].head())"
   ]
  },
  {
   "cell_type": "code",
   "execution_count": 13,
   "metadata": {},
   "outputs": [],
   "source": [
    "df = df.drop(columns=['Date'])"
   ]
  },
  {
   "cell_type": "markdown",
   "metadata": {},
   "source": [
    "Label Encoder"
   ]
  },
  {
   "cell_type": "code",
   "execution_count": 14,
   "metadata": {},
   "outputs": [
    {
     "name": "stdout",
     "output_type": "stream",
     "text": [
      "\n",
      "Mapping of original categories to encoded values:\n",
      "{'Drawn': 0, 'Lost': 1, 'Tied': 2, 'Won': 3}\n",
      "------------------------\n",
      "Transformed DataFrame:\n",
      "0     2\n",
      "1     3\n",
      "2     3\n",
      "3     3\n",
      "4     3\n",
      "     ..\n",
      "75    0\n",
      "76    3\n",
      "77    3\n",
      "78    3\n",
      "79    3\n",
      "Name: Result, Length: 80, dtype: int32\n"
     ]
    }
   ],
   "source": [
    "from sklearn.preprocessing import LabelEncoder\n",
    "\n",
    "\n",
    "le = LabelEncoder()\n",
    "df['Result'] = le.fit_transform(df['Result'])\n",
    "\n",
    "# Access the mapping of original categories to encoded values\n",
    "mapping = dict(zip(le.classes_, range(len(le.classes_))))\n",
    "print(\"\\nMapping of original categories to encoded values:\")\n",
    "print(mapping)\n",
    "\n",
    "print(\"------------------------\")\n",
    "# Print the transformed DataFrame\n",
    "print(\"Transformed DataFrame:\")\n",
    "print(df['Result'])"
   ]
  },
  {
   "cell_type": "code",
   "execution_count": 15,
   "metadata": {},
   "outputs": [
    {
     "name": "stdout",
     "output_type": "stream",
     "text": [
      "int32\n",
      "0     False\n",
      "1     False\n",
      "2     False\n",
      "3     False\n",
      "4     False\n",
      "      ...  \n",
      "75    False\n",
      "76    False\n",
      "77    False\n",
      "78    False\n",
      "79    False\n",
      "Name: Result, Length: 80, dtype: bool\n"
     ]
    }
   ],
   "source": [
    "print(df['Result'].dtype)\n",
    "print(df['Result'] == 4)"
   ]
  },
  {
   "cell_type": "code",
   "execution_count": 16,
   "metadata": {},
   "outputs": [
    {
     "name": "stdout",
     "output_type": "stream",
     "text": [
      "\n",
      "Mapping of original categories to encoded values:\n",
      "{'Away': 0, 'Home': 1, 'Neutral': 2}\n",
      "------------------------\n",
      "Transformed DataFrame:\n",
      "0    1\n",
      "1    0\n",
      "2    1\n",
      "3    1\n",
      "4    0\n",
      "Name: Ground, dtype: int32\n"
     ]
    }
   ],
   "source": [
    "le = LabelEncoder()\n",
    "df['Ground'] = le.fit_transform(df['Ground'])\n",
    "\n",
    "mapping = dict(zip(le.classes_, range(len(le.classes_))))\n",
    "print(\"\\nMapping of original categories to encoded values:\")\n",
    "print(mapping)\n",
    "\n",
    "print(\"------------------------\")\n",
    "\n",
    "# Print the transformed DataFrame\n",
    "print(\"Transformed DataFrame:\")\n",
    "print(df['Ground'].head())"
   ]
  },
  {
   "cell_type": "code",
   "execution_count": 17,
   "metadata": {},
   "outputs": [
    {
     "name": "stdout",
     "output_type": "stream",
     "text": [
      "0      True\n",
      "1     False\n",
      "2      True\n",
      "3      True\n",
      "4     False\n",
      "      ...  \n",
      "75    False\n",
      "76    False\n",
      "77     True\n",
      "78     True\n",
      "79     True\n",
      "Name: Ground, Length: 80, dtype: bool\n"
     ]
    }
   ],
   "source": [
    "print( df['Ground'] == 1)"
   ]
  },
  {
   "cell_type": "code",
   "execution_count": 18,
   "metadata": {},
   "outputs": [
    {
     "name": "stdout",
     "output_type": "stream",
     "text": [
      "<class 'pandas.core.frame.DataFrame'>\n",
      "RangeIndex: 80 entries, 0 to 79\n",
      "Data columns (total 11 columns):\n",
      " #   Column    Non-Null Count  Dtype \n",
      "---  ------    --------------  ----- \n",
      " 0   No.       80 non-null     int64 \n",
      " 1   Runs      80 non-null     int64 \n",
      " 2   Against   80 non-null     object\n",
      " 3   Position  80 non-null     int64 \n",
      " 4   Innings   80 non-null     int64 \n",
      " 5   Venue     80 non-null     object\n",
      " 6   Ground    80 non-null     int32 \n",
      " 7   Result    80 non-null     int32 \n",
      " 8   Day       80 non-null     int32 \n",
      " 9   Month     80 non-null     int32 \n",
      " 10  Year      80 non-null     int32 \n",
      "dtypes: int32(5), int64(4), object(2)\n",
      "memory usage: 5.4+ KB\n",
      "           No.        Runs   Position   Innings     Ground     Result  \\\n",
      "count  80.0000   80.000000  80.000000  80.00000  80.000000  80.000000   \n",
      "mean   40.5000  131.550000   3.500000   1.67500   0.625000   2.262500   \n",
      "std    23.2379   35.094772   0.656033   0.67082   0.623891   1.144538   \n",
      "min     1.0000  100.000000   2.000000   1.00000   0.000000   0.000000   \n",
      "25%    20.7500  107.000000   3.000000   1.00000   0.000000   1.000000   \n",
      "50%    40.5000  118.500000   3.000000   2.00000   1.000000   3.000000   \n",
      "75%    60.2500  139.250000   4.000000   2.00000   1.000000   3.000000   \n",
      "max    80.0000  254.000000   6.000000   4.00000   2.000000   3.000000   \n",
      "\n",
      "             Day      Month         Year  \n",
      "count  80.000000  80.000000    80.000000  \n",
      "mean   15.900000   7.175000  2016.087500  \n",
      "std     7.892634   4.046486     3.656774  \n",
      "min     1.000000   1.000000  2009.000000  \n",
      "25%     9.750000   2.000000  2013.000000  \n",
      "50%    16.000000   8.000000  2016.000000  \n",
      "75%    22.000000  10.000000  2018.000000  \n",
      "max    31.000000  12.000000  2023.000000  \n",
      "    No.  Runs        Against  Position  Innings  \\\n",
      "0     1   107      Sri Lanka         4        2   \n",
      "1     2   102     Bangladesh         3        2   \n",
      "2     3   118      Australia         3        2   \n",
      "3     4   105    New Zealand         3        1   \n",
      "4     5   100     Bangladesh         4        1   \n",
      "..  ...   ...            ...       ...      ...   \n",
      "75   76   121    West Indies         4        1   \n",
      "76   77   122       Pakistan         3        1   \n",
      "77   78   103     Bangladesh         3        2   \n",
      "78   79   101   South Africa         3        1   \n",
      "79   80   117    New Zealand         3        1   \n",
      "\n",
      "                                            Venue  Ground  Result  Day  Month  \\\n",
      "0                           Eden Gardens, Kolkata       1       2   24     12   \n",
      "1            Sher-e-Bangla Cricket Stadium, Dhaka       0       3   11      1   \n",
      "2                APCA-VDCA Stadium, Visakhapatnam       1       3   20     10   \n",
      "3                         Nehru Stadium, Guwahati       1       3   28     11   \n",
      "4            Sher-e-Bangla Cricket Stadium, Dhaka       0       3   19      2   \n",
      "..                                            ...     ...     ...  ...    ...   \n",
      "75               Queen's Park Oval, Port of Spain       0       0   20      7   \n",
      "76                 R. Premadasa Stadiuml, Colombo       2       3   11      9   \n",
      "77  Maharashtra Cricket Association Stadium, Pune       1       3   19     10   \n",
      "78                          Eden Gardens, Kolkata       1       3    5     11   \n",
      "79                       Wankhede Stadium, Mumbai       1       3   15     11   \n",
      "\n",
      "    Year  \n",
      "0   2009  \n",
      "1   2010  \n",
      "2   2010  \n",
      "3   2010  \n",
      "4   2011  \n",
      "..   ...  \n",
      "75  2023  \n",
      "76  2023  \n",
      "77  2023  \n",
      "78  2023  \n",
      "79  2023  \n",
      "\n",
      "[80 rows x 11 columns]\n"
     ]
    }
   ],
   "source": [
    "df.info()\n",
    "print(df.describe())\n",
    "df.head()\n",
    "print(df)"
   ]
  },
  {
   "cell_type": "code",
   "execution_count": 19,
   "metadata": {},
   "outputs": [
    {
     "name": "stdout",
     "output_type": "stream",
     "text": [
      " No.  Runs       Against  Position  Innings                              Venue  Ground  Result  Day  Month  Year\n",
      "  17   107     Australia         5        2 M. A. Chidambaram Stadium, Chennai       1       3   22      2  2013\n",
      "  18   102   West Indies         3        1   Queen's Park Oval, Port of Spain       0       3    5      7  2013\n",
      "  19   115      Zimbabwe         3        2         Harare Sports Club, Harare       0       3   24      7  2013\n",
      "  20   100     Australia         3        2     Sawai Mansingh Stadium, Jaipur       1       3   16     10  2013\n",
      "  21   115     Australia         3        2                VCA Stadium, Nagpur       1       3   30     10  2013\n",
      "  22   119  South Africa         4        1    Wanderers Stadium, Johannesburg       0       0   18     12  2013\n",
      " --------------------------------\n",
      "Top 10 highest scoring matches:\n",
      "    No.  Runs        Against  Position  Innings  \\\n",
      "68   69   254   South Africa         4        1   \n",
      "51   52   243      Sri Lanka         4        1   \n",
      "40   41   235        England         4        2   \n",
      "50   51   213      Sri Lanka         4        2   \n",
      "37   38   211    New Zealand         4        1   \n",
      "42   43   204     Bangladesh         4        1   \n",
      "36   37   200    West Indies         4        1   \n",
      "74   75   186      Australia         4        2   \n",
      "11   12   183       Pakistan         3        2   \n",
      "29   30   169      Australia         4        2   \n",
      "\n",
      "                                                Venue  Ground  Result  Day  \\\n",
      "68      Maharashtra Cricket Association Stadium, Pune       1       3   10   \n",
      "51                     Feroz Shah Kotla Ground, Delhi       1       0    2   \n",
      "40                           Wankhede Stadium, Mumbai       1       3    8   \n",
      "50       Vidarbha Cricket Association Stadium, Nagpur       1       3   24   \n",
      "37                             Holkar Stadium, Indore       1       3    8   \n",
      "42  Rajiv Gandhi International Cricket Stadium, Hy...       1       3    9   \n",
      "36           Sir Vivian Richards Stadium, North Sound       0       3   21   \n",
      "74                   Narendra Modi Stadium, Ahmedabad       1       0    9   \n",
      "11               Sher-e-Bangla Cricket Stadium, Dhaka       2       3   18   \n",
      "29                Melbourne Cricket Ground, Melbourne       0       0   26   \n",
      "\n",
      "    Month  Year  \n",
      "68     10  2019  \n",
      "51     12  2017  \n",
      "40     12  2016  \n",
      "50     11  2017  \n",
      "37     10  2016  \n",
      "42      2  2017  \n",
      "36      7  2016  \n",
      "74      3  2023  \n",
      "11      3  2012  \n",
      "29     12  2014  \n",
      "--------------------------------\n"
     ]
    }
   ],
   "source": [
    "print(df[df['Year'] == 2013].to_string(index=False))\n",
    "\n",
    "print(\" --------------------------------\")\n",
    "\n",
    "# Finding the top 10 highest scoring matches\n",
    "top_10_matches = df.nlargest(10, 'Runs')\n",
    "print(\"Top 10 highest scoring matches:\")\n",
    "print(top_10_matches)\n",
    "\n",
    "print(\"--------------------------------\")\n"
   ]
  }
 ],
 "metadata": {
  "kernelspec": {
   "display_name": "Python 3",
   "language": "python",
   "name": "python3"
  },
  "language_info": {
   "codemirror_mode": {
    "name": "ipython",
    "version": 3
   },
   "file_extension": ".py",
   "mimetype": "text/x-python",
   "name": "python",
   "nbconvert_exporter": "python",
   "pygments_lexer": "ipython3",
   "version": "3.12.4"
  }
 },
 "nbformat": 4,
 "nbformat_minor": 2
}
